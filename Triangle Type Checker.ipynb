{
 "cells": [
  {
   "cell_type": "markdown",
   "id": "637c8ef8-08b3-4012-bb27-c13d2746bb29",
   "metadata": {},
   "source": [
    "# Triangle Type Checker\n",
    "\n",
    "Write a Python program that takes three input values representing the lengths of the sides of a triangle and determines whether it's an equilateral, isosceles, or scalene triangle.\n",
    "\n",
    "Prompt the user to enter the lengths of the three sides.\n",
    "Use nested if statements to check the conditions for each type of triangle.\n",
    "Output the type of triangle based on the conditions."
   ]
  },
  {
   "cell_type": "code",
   "execution_count": null,
   "id": "e6448322-10a4-4e91-9666-c10db319fa45",
   "metadata": {},
   "outputs": [],
   "source": [
    "side_a = float(input(\"Kindly the lenth of side A: \"))\n",
    "side_b = float(input(\"Kindly the lenth of side B: \"))\n",
    "side_c = float(input(\"Kindly the lenth of side C: \"))\n",
    "\n",
    "if side_a == side_b:\n",
    "    if side_b == side_c:\n",
    "        print(\"Your triangle is equilateral.\")\n",
    "    else:\n",
    "        print(\"Your triangle is isosceles.\")\n",
    "elif side_c == side_b:\n",
    "    if side_b == side_a:\n",
    "        print(\"Your triangle is equilateral.\")\n",
    "    else:\n",
    "        print(\"Your triangle is isosceles.\")\n",
    "elif side_c == side_a:\n",
    "    if side_a == side_b:\n",
    "        print(\"Your triangle is equilateral.\")\n",
    "    else:\n",
    "        print(\"Your triangle is isosceles.\")\n",
    "else:\n",
    "    print(\"Your triangle is scalene.\")"
   ]
  }
 ],
 "metadata": {
  "kernelspec": {
   "display_name": "Python 3 (ipykernel)",
   "language": "python",
   "name": "python3"
  },
  "language_info": {
   "codemirror_mode": {
    "name": "ipython",
    "version": 3
   },
   "file_extension": ".py",
   "mimetype": "text/x-python",
   "name": "python",
   "nbconvert_exporter": "python",
   "pygments_lexer": "ipython3",
   "version": "3.11.5"
  }
 },
 "nbformat": 4,
 "nbformat_minor": 5
}
